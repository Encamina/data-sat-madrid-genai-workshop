{
 "cells": [
  {
   "cell_type": "code",
   "execution_count": 1,
   "metadata": {
    "dotnet_interactive": {
     "language": "csharp"
    },
    "polyglot_notebook": {
     "kernelName": "csharp"
    },
    "vscode": {
     "languageId": "polyglot-notebook"
    }
   },
   "outputs": [
    {
     "data": {
      "text/html": [
       "<div><div></div><div></div><div><strong>Installed Packages</strong><ul><li><span>dotenv.net, 3.2.1</span></li><li><span>Microsoft.SemanticKernel, 1.30.0</span></li></ul></div></div>"
      ]
     },
     "metadata": {},
     "output_type": "display_data"
    }
   ],
   "source": [
    "// Install the DotNetEnv package using the NuGet package manager\n",
    "#r \"nuget: dotenv.net, 3.2.1\"\n",
    "#r \"nuget: Microsoft.SemanticKernel, 1.30.0\"\n",
    "\n"
   ]
  },
  {
   "cell_type": "code",
   "execution_count": 2,
   "metadata": {
    "dotnet_interactive": {
     "language": "csharp"
    },
    "polyglot_notebook": {
     "kernelName": "csharp"
    },
    "vscode": {
     "languageId": "polyglot-notebook"
    }
   },
   "outputs": [],
   "source": [
    "using dotenv.net;\n",
    "using Microsoft.SemanticKernel;\n",
    "using Microsoft.SemanticKernel.ChatCompletion;\n",
    "using Microsoft.SemanticKernel.Connectors.OpenAI;"
   ]
  },
  {
   "cell_type": "code",
   "execution_count": 3,
   "metadata": {
    "dotnet_interactive": {
     "language": "csharp"
    },
    "polyglot_notebook": {
     "kernelName": "csharp"
    },
    "vscode": {
     "languageId": "polyglot-notebook"
    }
   },
   "outputs": [],
   "source": [
    " // Load the .env file\n",
    "DotEnv.Load();\n",
    "\n",
    "// Access the environment variables\n",
    "var azureOpenAIEndpoint = Environment.GetEnvironmentVariable(\"AZURE_OPENAI_ENDPOINT\");\n",
    "var azureOpenAIKey = Environment.GetEnvironmentVariable(\"AZURE_OPENAI_API_KEY\");\n",
    "var azureOpenAIModel = Environment.GetEnvironmentVariable(\"AZURE_OPENAI_MODEL_NAME\"); \n",
    "var azureOpenAIDeployment = Environment.GetEnvironmentVariable(\"AZURE_OPENAI_DEPLOYMENT_NAME\");\n",
    "var azureOpenAIApiVersion = Environment.GetEnvironmentVariable(\"AZURE_OPENAI_API_VERSION\");"
   ]
  },
  {
   "cell_type": "code",
   "execution_count": 4,
   "metadata": {
    "dotnet_interactive": {
     "language": "csharp"
    },
    "polyglot_notebook": {
     "kernelName": "csharp"
    },
    "vscode": {
     "languageId": "polyglot-notebook"
    }
   },
   "outputs": [],
   "source": [
    "var builder = Kernel.CreateBuilder();\n",
    "builder.AddAzureOpenAIChatCompletion(azureOpenAIDeployment, azureOpenAIEndpoint, azureOpenAIKey);\n",
    "\n",
    "var kernel = builder.Build();\n",
    "\n",
    "var chatService = kernel.GetRequiredService<IChatCompletionService>();"
   ]
  },
  {
   "cell_type": "code",
   "execution_count": 5,
   "metadata": {
    "dotnet_interactive": {
     "language": "csharp"
    },
    "polyglot_notebook": {
     "kernelName": "csharp"
    },
    "vscode": {
     "languageId": "polyglot-notebook"
    }
   },
   "outputs": [
    {
     "name": "stdout",
     "output_type": "stream",
     "text": [
      "Hi Bob! How can I help you today?\r\n"
     ]
    }
   ],
   "source": [
    "Console.WriteLine(await chatService.GetChatMessageContentAsync(\"Hi! I'm Bob\"));"
   ]
  },
  {
   "cell_type": "code",
   "execution_count": 6,
   "metadata": {
    "dotnet_interactive": {
     "language": "csharp"
    },
    "polyglot_notebook": {
     "kernelName": "csharp"
    },
    "vscode": {
     "languageId": "polyglot-notebook"
    }
   },
   "outputs": [
    {
     "name": "stdout",
     "output_type": "stream",
     "text": [
      "I'm sorry, but I don't have access to personal data such as your name. How can I assist you today?\r\n"
     ]
    }
   ],
   "source": [
    "Console.WriteLine(await chatService.GetChatMessageContentAsync(\"What's my name?\"));"
   ]
  },
  {
   "cell_type": "code",
   "execution_count": 7,
   "metadata": {
    "dotnet_interactive": {
     "language": "csharp"
    },
    "polyglot_notebook": {
     "kernelName": "csharp"
    },
    "vscode": {
     "languageId": "polyglot-notebook"
    }
   },
   "outputs": [
    {
     "name": "stdout",
     "output_type": "stream",
     "text": [
      "You mentioned that your name is Bob. How can I assist you further?\r\n"
     ]
    }
   ],
   "source": [
    "var messages = new ChatHistory();\n",
    "messages.AddUserMessage(\"Hi! I'm Bob\");\n",
    "messages.AddAssistantMessage(\"Hello Bob! How can I help you today?\");\n",
    "messages.AddUserMessage(\"What's my name?\");\n",
    "\n",
    "Console.WriteLine(await chatService.GetChatMessageContentAsync(messages));"
   ]
  },
  {
   "cell_type": "code",
   "execution_count": 8,
   "metadata": {
    "dotnet_interactive": {
     "language": "csharp"
    },
    "polyglot_notebook": {
     "kernelName": "csharp"
    },
    "vscode": {
     "languageId": "polyglot-notebook"
    }
   },
   "outputs": [
    {
     "name": "stdout",
     "output_type": "stream",
     "text": [
      "Ahoy, Jim! Welcome aboard! What be yer question or need, matey? Yarrr!\r\n"
     ]
    }
   ],
   "source": [
    "var piratePrompt = \"You talk like a pirate. Answer all questions to the best of your ability.\";\n",
    "\n",
    "var messages = new ChatHistory(piratePrompt);\n",
    "messages.AddUserMessage(\"Hi! I'm Jim\");\n",
    "\n",
    "var response = await chatService.GetChatMessageContentAsync(messages);\n",
    "messages.AddAssistantMessage(response.Content);\n",
    "\n",
    "Console.WriteLine(response);"
   ]
  },
  {
   "cell_type": "code",
   "execution_count": 9,
   "metadata": {
    "dotnet_interactive": {
     "language": "csharp"
    },
    "polyglot_notebook": {
     "kernelName": "csharp"
    },
    "vscode": {
     "languageId": "polyglot-notebook"
    }
   },
   "outputs": [
    {
     "name": "stdout",
     "output_type": "stream",
     "text": [
      "Ye be Jim, if my memory serves me right! What sails be ye lookin' to chart today? Yarrr!\r\n"
     ]
    }
   ],
   "source": [
    "messages.AddUserMessage(\"What's my name?\");\n",
    "\n",
    "Console.WriteLine(await chatService.GetChatMessageContentAsync(messages));"
   ]
  },
  {
   "cell_type": "code",
   "execution_count": 10,
   "metadata": {
    "dotnet_interactive": {
     "language": "csharp"
    },
    "polyglot_notebook": {
     "kernelName": "csharp"
    },
    "vscode": {
     "languageId": "polyglot-notebook"
    }
   },
   "outputs": [],
   "source": [
    "const string chatbotPrompt = @\"\n",
    "ChatBot can have a conversation with you about any topic.\n",
    "It can give explicit instructions or say 'I don't know' if it does not have an answer.\n",
    "\n",
    "{{$history}}\n",
    "User: {{$userInput}}\n",
    "ChatBot:\";\n",
    "\n",
    "var executionSettings = new OpenAIPromptExecutionSettings \n",
    "{\n",
    "    MaxTokens = 2000,\n",
    "    Temperature = 0.7,\n",
    "    TopP = 0.5\n",
    "};\n",
    "\n",
    "var chatbotFunction = kernel.CreateFunctionFromPrompt(chatbotPrompt, executionSettings);\n",
    "\n",
    "var history = \"\";\n",
    "\n",
    "var arguments = new KernelArguments()\n",
    "{\n",
    "    [\"history\"] = history\n",
    "};\n",
    "\n",
    "Func<string, Task> ChatAsync = async (string input) => {\n",
    "    // Save new message in the arguments\n",
    "    arguments[\"userInput\"] = input;\n",
    "\n",
    "    // Process the user message and get an answer\n",
    "    var answer = await chatbotFunction.InvokeAsync(kernel, arguments);\n",
    "\n",
    "    // Append the new interaction to the chat history\n",
    "    var result = $\"\\nUser: {input}\\nAI: {answer}\\n\";\n",
    "    history += result;\n",
    "\n",
    "    arguments[\"history\"] = history;\n",
    "    \n",
    "    // Show the response\n",
    "    Console.WriteLine(result);\n",
    "};"
   ]
  },
  {
   "cell_type": "code",
   "execution_count": 11,
   "metadata": {
    "dotnet_interactive": {
     "language": "csharp"
    },
    "polyglot_notebook": {
     "kernelName": "csharp"
    },
    "vscode": {
     "languageId": "polyglot-notebook"
    }
   },
   "outputs": [
    {
     "name": "stdout",
     "output_type": "stream",
     "text": [
      "\n",
      "User: Hi, I'm looking for book suggestions\n",
      "AI: Hi! I'd be happy to help with book suggestions. Could you please tell me a bit more about your interests or the genres you enjoy? For example, do you like fiction, non-fiction, mystery, romance, science fiction, fantasy, or something else?\n",
      "\r\n"
     ]
    }
   ],
   "source": [
    "await ChatAsync(\"Hi, I'm looking for book suggestions\");"
   ]
  },
  {
   "cell_type": "code",
   "execution_count": 12,
   "metadata": {
    "dotnet_interactive": {
     "language": "csharp"
    },
    "polyglot_notebook": {
     "kernelName": "csharp"
    },
    "vscode": {
     "languageId": "polyglot-notebook"
    }
   },
   "outputs": [
    {
     "name": "stdout",
     "output_type": "stream",
     "text": [
      "\n",
      "User: I would like a non-fiction book suggestion about Greece history. Please only list one book.\n",
      "AI: Sure! I recommend \"The Histories\" by Herodotus. It's a classic work that provides a detailed account of ancient Greek history, culture, and the Greco-Persian Wars.\n",
      "\r\n"
     ]
    }
   ],
   "source": [
    "await ChatAsync(\"I would like a non-fiction book suggestion about Greece history. Please only list one book.\");"
   ]
  },
  {
   "cell_type": "code",
   "execution_count": 13,
   "metadata": {
    "dotnet_interactive": {
     "language": "csharp"
    },
    "polyglot_notebook": {
     "kernelName": "csharp"
    },
    "vscode": {
     "languageId": "polyglot-notebook"
    }
   },
   "outputs": [
    {
     "name": "stdout",
     "output_type": "stream",
     "text": [
      "\n",
      "User: that sounds interesting, what are some of the topics I will learn about?\n",
      "AI: In \"The Histories\" by Herodotus, you will learn about a wide range of topics related to ancient Greece and its surrounding regions. Some of the key topics include:\n",
      "\n",
      "1. **The Greco-Persian Wars**: Detailed accounts of the conflicts between the Greek city-states and the Persian Empire, including famous battles such as Marathon, Thermopylae, and Salamis.\n",
      "2. **Cultural Practices**: Insights into the customs, traditions, and daily life of various Greek city-states and other civilizations Herodotus encountered.\n",
      "3. **Geography and Ethnography**: Descriptions of the lands and peoples Herodotus visited or learned about, including Egypt, Scythia, and Lydia.\n",
      "4. **Political Systems**: Examination of different forms of government and political structures in ancient Greece and neighboring regions.\n",
      "5. **Mythology and Religion**: Stories and beliefs about the gods, heroes, and religious practices of the ancient Greeks.\n",
      "6. **Historical Figures**: Accounts of significant leaders and personalities, such as King Xerxes of Persia, King Leonidas of Sparta, and Themistocles of Athens.\n",
      "7. **Economic and Social Structures**: Information on trade, commerce, and the social hierarchy of ancient Greek society.\n",
      "\n",
      "Herodotus's work is considered one of the earliest examples of historical writing and provides a fascinating glimpse into the ancient world.\n",
      "\r\n"
     ]
    }
   ],
   "source": [
    "await ChatAsync(\"that sounds interesting, what are some of the topics I will learn about?\");"
   ]
  },
  {
   "cell_type": "code",
   "execution_count": 14,
   "metadata": {
    "dotnet_interactive": {
     "language": "csharp"
    },
    "polyglot_notebook": {
     "kernelName": "csharp"
    },
    "vscode": {
     "languageId": "polyglot-notebook"
    }
   },
   "outputs": [
    {
     "name": "stdout",
     "output_type": "stream",
     "text": [
      "\n",
      "User: Which topic from the ones you listed do you think most people find interesting?\n",
      "AI: Many people find the topic of **The Greco-Persian Wars** particularly interesting. This section of \"The Histories\" covers some of the most famous and dramatic events in ancient history, including the battles of Marathon, Thermopylae, and Salamis. These conflicts were pivotal in shaping the course of Western civilization and are filled with tales of heroism, strategy, and the clash of vastly different cultures. The stories of legendary figures like King Leonidas and his 300 Spartans at Thermopylae, as well as the clever tactics of Themistocles at the Battle of Salamis, capture the imagination and provide a compelling narrative that many readers find captivating.\n",
      "\r\n"
     ]
    }
   ],
   "source": [
    "await ChatAsync(\"Which topic from the ones you listed do you think most people find interesting?\");"
   ]
  },
  {
   "cell_type": "code",
   "execution_count": 15,
   "metadata": {
    "dotnet_interactive": {
     "language": "csharp"
    },
    "polyglot_notebook": {
     "kernelName": "csharp"
    },
    "vscode": {
     "languageId": "polyglot-notebook"
    }
   },
   "outputs": [
    {
     "name": "stdout",
     "output_type": "stream",
     "text": [
      "\n",
      "User: could you list some more books I could read about the topic(s) you mentioned?\n",
      "AI: Certainly! Here are some more books that delve into the topics mentioned, particularly focusing on the Greco-Persian Wars and related subjects:\n",
      "\n",
      "1. **\"The Persian Wars\" by Herodotus** - This is a more focused translation and edition of Herodotus's work specifically on the Greco-Persian Wars.\n",
      "2. **\"The Landmark Herodotus: The Histories\" edited by Robert B. Strassler** - This edition includes extensive maps, annotations, and appendices to help readers better understand Herodotus's work.\n",
      "3. **\"Persian Fire: The First World Empire and the Battle for the West\" by Tom Holland** - A modern and engaging account of the Greco-Persian Wars, providing context and analysis of the conflicts.\n",
      "4. **\"The Battle of Salamis: The Naval Encounter that Saved Greece—and Western Civilization\" by Barry Strauss** - A detailed examination of the pivotal naval battle of Salamis and its significance.\n",
      "5. **\"Gates of Fire: An Epic Novel of the Battle of Thermopylae\" by Steven Pressfield** - While this is a historical novel, it provides a vivid and immersive depiction of the Battle of Thermopylae and the heroism of the Spartans.\n",
      "6. **\"The Spartans: The World of the Warrior-Heroes of Ancient Greece\" by Paul Cartledge** - A comprehensive look at Spartan society, culture, and their role in the Greco-Persian Wars.\n",
      "7. **\"The Greek and Persian Wars 499-386 BC\" by Philip de Souza** - A concise and accessible overview of the conflicts between Greece and Persia, including key battles and strategies.\n",
      "8. **\"Thermopylae: The Battle That Changed the World\" by Paul Cartledge** - An in-depth exploration of the Battle of Thermopylae and its impact on history.\n",
      "\n",
      "These books should provide you with a rich and varied understanding of the Greco-Persian Wars and related topics in ancient Greek history.\n",
      "\r\n"
     ]
    }
   ],
   "source": [
    "await ChatAsync(\"could you list some more books I could read about the topic(s) you mentioned?\");"
   ]
  },
  {
   "cell_type": "code",
   "execution_count": 16,
   "metadata": {
    "dotnet_interactive": {
     "language": "csharp"
    },
    "polyglot_notebook": {
     "kernelName": "csharp"
    },
    "vscode": {
     "languageId": "polyglot-notebook"
    }
   },
   "outputs": [
    {
     "name": "stdout",
     "output_type": "stream",
     "text": [
      "Sure! Here are some highly recommended science fiction books that you might enjoy:\n",
      "\n",
      "1. **\"Dune\" by Frank Herbert** - A classic in the science fiction genre, this epic novel explores themes of politics, religion, and ecology on the desert planet of Arrakis.\n",
      "2. **\"Neuromancer\" by William Gibson** - A seminal work in the cyberpunk genre, this novel follows a washed-up computer hacker hired for one last job.\n",
      "3. **\"The Left Hand of Darkness\" by Ursula K. Le Guin** - This novel explores themes of gender and society on a distant planet where the inhabitants can change their sex.\n",
      "4. **\"Foundation\" by Isaac Asimov** - The first book in Asimov's Foundation series, it tells the story of a group of scientists trying to preserve knowledge as the Galactic Empire collapses.\n",
      "5. **\"Snow Crash\" by Neal Stephenson** - A fast-paced cyberpunk novel that explores a future America dominated by corporate city-states and virtual reality.\n",
      "6. **\"The Martian\" by Andy Weir** - A gripping survival story about an astronaut stranded on Mars, using his ingenuity and knowledge of science to survive.\n",
      "7. **\"Hyperion\" by Dan Simmons** - The first book in the Hyperion Cantos, this novel weaves together the stories of seven pilgrims on a journey to meet the mysterious Shrike.\n",
      "8. **\"Ender's Game\" by Orson Scott Card** - A military science fiction novel about a young boy trained to be a commander in a war against an alien species.\n",
      "9. **\"Altered Carbon\" by Richard K. Morgan** - A noir detective story set in a future where consciousness can be transferred between bodies.\n",
      "10. **\"The Three-Body Problem\" by Liu Cixin** - A hard science fiction novel that explores first contact with an alien civilization and the consequences for humanity.\n",
      "\n",
      "These books cover a wide range of themes and styles within the science fiction genre, so there's something for everyone!"
     ]
    }
   ],
   "source": [
    "Func<string, Task> ChatStreamingAsync = async (string input) => {\n",
    "    // Save new message in the arguments\n",
    "    arguments[\"userInput\"] = input;\n",
    "\n",
    "    var responseBuilder = new StringBuilder();\n",
    "\n",
    "    // Process the user message and get an answer\n",
    "    await foreach (var update in chatbotFunction.InvokeStreamingAsync(kernel, arguments))\n",
    "    {\n",
    "        Console.Write(update);   \n",
    "        responseBuilder.Append(update);\n",
    "    }\n",
    "\n",
    "    // Append the new interaction to the chat history\n",
    "    var result = $\"\\nUser: {input}\\nAI: {responseBuilder}\\n\";\n",
    "    history += result;\n",
    "\n",
    "    arguments[\"history\"] = history;\n",
    "};\n",
    "\n",
    "\n",
    "await ChatStreamingAsync(\"Now please suggest me some science fiction books\");"
   ]
  },
  {
   "cell_type": "code",
   "execution_count": 17,
   "metadata": {
    "dotnet_interactive": {
     "language": "csharp"
    },
    "polyglot_notebook": {
     "kernelName": "csharp"
    },
    "vscode": {
     "languageId": "polyglot-notebook"
    }
   },
   "outputs": [
    {
     "name": "stdout",
     "output_type": "stream",
     "text": [
      "\n",
      "User: Hi, I'm looking for book suggestions\n",
      "AI: Hi! I'd be happy to help with book suggestions. Could you please tell me a bit more about your interests or the genres you enjoy? For example, do you like fiction, non-fiction, mystery, romance, science fiction, fantasy, or something else?\n",
      "\n",
      "User: I would like a non-fiction book suggestion about Greece history. Please only list one book.\n",
      "AI: Sure! I recommend \"The Histories\" by Herodotus. It's a classic work that provides a detailed account of ancient Greek history, culture, and the Greco-Persian Wars.\n",
      "\n",
      "User: that sounds interesting, what are some of the topics I will learn about?\n",
      "AI: In \"The Histories\" by Herodotus, you will learn about a wide range of topics related to ancient Greece and its surrounding regions. Some of the key topics include:\n",
      "\n",
      "1. **The Greco-Persian Wars**: Detailed accounts of the conflicts between the Greek city-states and the Persian Empire, including famous battles such as Marathon, Thermopylae, and Salamis.\n",
      "2. **Cultural Practices**: Insights into the customs, traditions, and daily life of various Greek city-states and other civilizations Herodotus encountered.\n",
      "3. **Geography and Ethnography**: Descriptions of the lands and peoples Herodotus visited or learned about, including Egypt, Scythia, and Lydia.\n",
      "4. **Political Systems**: Examination of different forms of government and political structures in ancient Greece and neighboring regions.\n",
      "5. **Mythology and Religion**: Stories and beliefs about the gods, heroes, and religious practices of the ancient Greeks.\n",
      "6. **Historical Figures**: Accounts of significant leaders and personalities, such as King Xerxes of Persia, King Leonidas of Sparta, and Themistocles of Athens.\n",
      "7. **Economic and Social Structures**: Information on trade, commerce, and the social hierarchy of ancient Greek society.\n",
      "\n",
      "Herodotus's work is considered one of the earliest examples of historical writing and provides a fascinating glimpse into the ancient world.\n",
      "\n",
      "User: Which topic from the ones you listed do you think most people find interesting?\n",
      "AI: Many people find the topic of **The Greco-Persian Wars** particularly interesting. This section of \"The Histories\" covers some of the most famous and dramatic events in ancient history, including the battles of Marathon, Thermopylae, and Salamis. These conflicts were pivotal in shaping the course of Western civilization and are filled with tales of heroism, strategy, and the clash of vastly different cultures. The stories of legendary figures like King Leonidas and his 300 Spartans at Thermopylae, as well as the clever tactics of Themistocles at the Battle of Salamis, capture the imagination and provide a compelling narrative that many readers find captivating.\n",
      "\n",
      "User: could you list some more books I could read about the topic(s) you mentioned?\n",
      "AI: Certainly! Here are some more books that delve into the topics mentioned, particularly focusing on the Greco-Persian Wars and related subjects:\n",
      "\n",
      "1. **\"The Persian Wars\" by Herodotus** - This is a more focused translation and edition of Herodotus's work specifically on the Greco-Persian Wars.\n",
      "2. **\"The Landmark Herodotus: The Histories\" edited by Robert B. Strassler** - This edition includes extensive maps, annotations, and appendices to help readers better understand Herodotus's work.\n",
      "3. **\"Persian Fire: The First World Empire and the Battle for the West\" by Tom Holland** - A modern and engaging account of the Greco-Persian Wars, providing context and analysis of the conflicts.\n",
      "4. **\"The Battle of Salamis: The Naval Encounter that Saved Greece—and Western Civilization\" by Barry Strauss** - A detailed examination of the pivotal naval battle of Salamis and its significance.\n",
      "5. **\"Gates of Fire: An Epic Novel of the Battle of Thermopylae\" by Steven Pressfield** - While this is a historical novel, it provides a vivid and immersive depiction of the Battle of Thermopylae and the heroism of the Spartans.\n",
      "6. **\"The Spartans: The World of the Warrior-Heroes of Ancient Greece\" by Paul Cartledge** - A comprehensive look at Spartan society, culture, and their role in the Greco-Persian Wars.\n",
      "7. **\"The Greek and Persian Wars 499-386 BC\" by Philip de Souza** - A concise and accessible overview of the conflicts between Greece and Persia, including key battles and strategies.\n",
      "8. **\"Thermopylae: The Battle That Changed the World\" by Paul Cartledge** - An in-depth exploration of the Battle of Thermopylae and its impact on history.\n",
      "\n",
      "These books should provide you with a rich and varied understanding of the Greco-Persian Wars and related topics in ancient Greek history.\n",
      "\n",
      "User: Now please suggest me some science fiction books\n",
      "AI: Sure! Here are some highly recommended science fiction books that you might enjoy:\n",
      "\n",
      "1. **\"Dune\" by Frank Herbert** - A classic in the science fiction genre, this epic novel explores themes of politics, religion, and ecology on the desert planet of Arrakis.\n",
      "2. **\"Neuromancer\" by William Gibson** - A seminal work in the cyberpunk genre, this novel follows a washed-up computer hacker hired for one last job.\n",
      "3. **\"The Left Hand of Darkness\" by Ursula K. Le Guin** - This novel explores themes of gender and society on a distant planet where the inhabitants can change their sex.\n",
      "4. **\"Foundation\" by Isaac Asimov** - The first book in Asimov's Foundation series, it tells the story of a group of scientists trying to preserve knowledge as the Galactic Empire collapses.\n",
      "5. **\"Snow Crash\" by Neal Stephenson** - A fast-paced cyberpunk novel that explores a future America dominated by corporate city-states and virtual reality.\n",
      "6. **\"The Martian\" by Andy Weir** - A gripping survival story about an astronaut stranded on Mars, using his ingenuity and knowledge of science to survive.\n",
      "7. **\"Hyperion\" by Dan Simmons** - The first book in the Hyperion Cantos, this novel weaves together the stories of seven pilgrims on a journey to meet the mysterious Shrike.\n",
      "8. **\"Ender's Game\" by Orson Scott Card** - A military science fiction novel about a young boy trained to be a commander in a war against an alien species.\n",
      "9. **\"Altered Carbon\" by Richard K. Morgan** - A noir detective story set in a future where consciousness can be transferred between bodies.\n",
      "10. **\"The Three-Body Problem\" by Liu Cixin** - A hard science fiction novel that explores first contact with an alien civilization and the consequences for humanity.\n",
      "\n",
      "These books cover a wide range of themes and styles within the science fiction genre, so there's something for everyone!\n",
      "\r\n"
     ]
    }
   ],
   "source": [
    "Console.WriteLine(history);"
   ]
  }
 ],
 "metadata": {
  "kernelspec": {
   "display_name": ".NET (C#)",
   "language": "C#",
   "name": ".net-csharp"
  },
  "language_info": {
   "name": "python"
  },
  "polyglot_notebook": {
   "kernelInfo": {
    "defaultKernelName": "csharp",
    "items": [
     {
      "aliases": [],
      "name": "csharp"
     }
    ]
   }
  }
 },
 "nbformat": 4,
 "nbformat_minor": 2
}
