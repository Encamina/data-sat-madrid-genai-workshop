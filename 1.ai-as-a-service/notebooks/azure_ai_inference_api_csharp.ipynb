{
 "cells": [
  {
   "cell_type": "code",
   "execution_count": 1,
   "metadata": {
    "dotnet_interactive": {
     "language": "csharp"
    },
    "polyglot_notebook": {
     "kernelName": "csharp"
    },
    "vscode": {
     "languageId": "polyglot-notebook"
    }
   },
   "outputs": [
    {
     "data": {
      "text/html": [
       "<div><div></div><div></div><div><strong>Installed Packages</strong><ul><li><span>Azure.AI.Inference, 1.0.0-beta.2</span></li><li><span>Azure.Identity, 1.13.1</span></li></ul></div></div>"
      ]
     },
     "metadata": {},
     "output_type": "display_data"
    }
   ],
   "source": [
    "#r \"nuget: Azure.AI.Inference, 1.0.0-beta.2\"\n",
    "#r \"nuget: Azure.Identity\" "
   ]
  },
  {
   "cell_type": "code",
   "execution_count": 2,
   "metadata": {
    "dotnet_interactive": {
     "language": "csharp"
    },
    "polyglot_notebook": {
     "kernelName": "csharp"
    },
    "vscode": {
     "languageId": "polyglot-notebook"
    }
   },
   "outputs": [],
   "source": [
    "using Azure;\n",
    "using Azure.AI.Inference;"
   ]
  },
  {
   "cell_type": "code",
   "execution_count": 4,
   "metadata": {
    "dotnet_interactive": {
     "language": "csharp"
    },
    "polyglot_notebook": {
     "kernelName": "csharp"
    },
    "vscode": {
     "languageId": "polyglot-notebook"
    }
   },
   "outputs": [
    {
     "name": "stdout",
     "output_type": "stream",
     "text": [
      "There are 5,280 feet in a mile. This is a standard measurement used in the United States and a few other countries. If you need help converting other units of distance, feel free to ask!\r\n"
     ]
    }
   ],
   "source": [
    "using Azure;\n",
    "using Azure.AI.Inference;\n",
    "\n",
    "var endpoint = new Uri(System.Environment.GetEnvironmentVariable(\"AZUREAI_ENDPOINT_URL_LLAMA3\"));\n",
    "var credential = new AzureKeyCredential(System.Environment.GetEnvironmentVariable(\"AZUREAI_ENDPOINT_KEY_LLAMA3\"));\n",
    "\n",
    "var client = new ChatCompletionsClient(endpoint, credential, new AzureAIInferenceClientOptions());\n",
    "\n",
    "var requestOptions = new ChatCompletionsOptions()\n",
    "{\n",
    "    Messages =\n",
    "    {\n",
    "        new ChatRequestSystemMessage(\"You are a helpful assistant.\"),\n",
    "        new ChatRequestUserMessage(\"How many feet are in a mile?\"),\n",
    "    },\n",
    "    Model = \"Mistral-large\",\n",
    "};\n",
    "\n",
    "Response<ChatCompletions> response = client.Complete(requestOptions);\n",
    "System.Console.WriteLine(response.Value.Content);"
   ]
  }
 ],
 "metadata": {
  "kernelspec": {
   "display_name": ".NET (C#)",
   "language": "C#",
   "name": ".net-csharp"
  },
  "language_info": {
   "name": "python"
  },
  "polyglot_notebook": {
   "kernelInfo": {
    "defaultKernelName": "csharp",
    "items": [
     {
      "aliases": [],
      "name": "csharp"
     }
    ]
   }
  }
 },
 "nbformat": 4,
 "nbformat_minor": 2
}
