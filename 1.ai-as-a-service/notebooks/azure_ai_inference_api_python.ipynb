{
 "cells": [
  {
   "cell_type": "markdown",
   "metadata": {},
   "source": [
    "Instale el paquete azure-ai-inference mediante el administrador de paquetes, como pip:"
   ]
  },
  {
   "cell_type": "code",
   "execution_count": null,
   "metadata": {},
   "outputs": [],
   "source": [
    "%pip install azure-ai-inference"
   ]
  },
  {
   "cell_type": "markdown",
   "metadata": {},
   "source": [
    "## Creating a Client for Chat Completions\n",
    "A continuación, puede usar el paquete para consumir el modelo. En el ejemplo siguiente se muestra cómo crear un cliente para consumir finalizaciones de chat:"
   ]
  },
  {
   "cell_type": "code",
   "execution_count": 2,
   "metadata": {},
   "outputs": [],
   "source": [
    "import os\n",
    "from azure.ai.inference import ChatCompletionsClient\n",
    "from azure.core.credentials import AzureKeyCredential\n",
    "\n",
    "model = ChatCompletionsClient(\n",
    "    endpoint=os.environ[\"AZUREAI_ENDPOINT_URL\"],\n",
    "    credential=AzureKeyCredential(os.environ[\"AZUREAI_ENDPOINT_KEY\"])\n",
    ")"
   ]
  },
  {
   "cell_type": "code",
   "execution_count": 3,
   "metadata": {},
   "outputs": [
    {
     "name": "stdout",
     "output_type": "stream",
     "text": [
      "As of the latest data, there are approximately 7,117 living languages in the world today. However, this number is constantly changing due to factors like language evolution, extinction, and the development of new dialects. It's also important to note that the exact number can vary depending on the criteria used to define a distinct language.\n"
     ]
    }
   ],
   "source": [
    "from azure.ai.inference.models import SystemMessage, UserMessage\n",
    "\n",
    "response = model.complete(\n",
    "    messages=[\n",
    "        SystemMessage(content=\"You are a helpful assistant.\"),\n",
    "        UserMessage(content=\"How many languages are in the world?\"),\n",
    "    ],\n",
    "    model=\"Mistral-large\"\n",
    ")\n",
    "\n",
    "print(response.choices[0].message.content)"
   ]
  },
  {
   "cell_type": "markdown",
   "metadata": {},
   "source": [
    "## Comparing Models"
   ]
  },
  {
   "cell_type": "code",
   "execution_count": 5,
   "metadata": {},
   "outputs": [
    {
     "name": "stdout",
     "output_type": "stream",
     "text": [
      "Model Mistral-large Response: As of the most recent data, there are approximately 7,117 living languages in the world today. This number is constantly changing due to factors like language extinction and the development of new languages or dialects. However, it's important to note that this is an estimate, as it can be difficult to define exactly what constitutes a distinct language versus a dialect.\n",
      "------------------------------------------------------------------------------------\n",
      "Model Phi-3.5-MoE-instruct Response:  Estimating the number of languages in the world can be complex due to varying definitions of what constitutes a language versus a dialect. However, according to Ethnologue, a comprehensive reference work cataloging all of the known living languages, there are currently around 7,139 living languages spoken globally. This number is constantly changing as languages evolve, merge, or unfortunately, become extinct. UNESCO provides a slightly different estimate, with approximately 2,500 languages at risk of disappearing. It's important to note that new languages may also emerge over time. The total number of languages spoken worldwide can vary depending on the criteria used for distinguishing between languages and dialects. Always refer to reliable, up-to-date sources for the most accurate information.\n"
     ]
    }
   ],
   "source": [
    "response_mistral = model.complete(\n",
    "    messages=[\n",
    "        SystemMessage(content=\"You are a helpful assistant.\"),\n",
    "        UserMessage(content=\"How many languages are in the world?\"),\n",
    "    ],\n",
    "    model=\"Mistral-large\"\n",
    ")\n",
    "\n",
    "response_phi35 = model.complete(\n",
    "    messages=[\n",
    "        SystemMessage(content=\"You are a helpful assistant.\"),\n",
    "        UserMessage(content=\"How many languages are in the world?\"),\n",
    "    ],\n",
    "    model=\"Phi-3.5-MoE-instruct\"\n",
    ")\n",
    "\n",
    "# Compare the results from the two models\n",
    "print(f\"Model Mistral-large Response: \", response_mistral.choices[0].message.content)\n",
    "print(\"------------------------------------------------------------------------------------\")\n",
    "print(f\"Model Phi-3.5-MoE-instruct Response: \", response_phi35.choices[0].message.content)"
   ]
  }
 ],
 "metadata": {
  "kernelspec": {
   "display_name": "Python 3",
   "language": "python",
   "name": "python3"
  },
  "language_info": {
   "codemirror_mode": {
    "name": "ipython",
    "version": 3
   },
   "file_extension": ".py",
   "mimetype": "text/x-python",
   "name": "python",
   "nbconvert_exporter": "python",
   "pygments_lexer": "ipython3",
   "version": "3.11.9"
  },
  "polyglot_notebook": {
   "kernelInfo": {
    "defaultKernelName": "csharp",
    "items": [
     {
      "aliases": [],
      "name": "csharp"
     }
    ]
   }
  }
 },
 "nbformat": 4,
 "nbformat_minor": 2
}
