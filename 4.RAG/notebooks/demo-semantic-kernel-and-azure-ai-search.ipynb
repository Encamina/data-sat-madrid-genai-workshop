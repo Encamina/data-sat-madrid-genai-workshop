{
 "cells": [
  {
   "cell_type": "markdown",
   "metadata": {},
   "source": [
    "![Azure AI Search](../assets/ai_search.png)\n",
    "\n",
    "# Microsoft Semantic Kernel + Azure AI Search\n",
    "\n",
    "Vamos a crear un ejemplo de aplicación RAG utilizando Semantic Kernel y Azure AI Search"
   ]
  },
  {
   "cell_type": "code",
   "execution_count": 9,
   "metadata": {
    "dotnet_interactive": {
     "language": "csharp"
    },
    "polyglot_notebook": {
     "kernelName": "csharp"
    },
    "vscode": {
     "languageId": "polyglot-notebook"
    }
   },
   "outputs": [
    {
     "data": {
      "text/html": [
       "<div><div></div><div></div><div><strong>Installed Packages</strong><ul><li><span>dotenv.net, 3.2.1</span></li><li><span>Microsoft.SemanticKernel, 1.31.0</span></li><li><span>Microsoft.SemanticKernel.Agents.Core, 1.31.0-alpha</span></li><li><span>Microsoft.SemanticKernel.Agents.OpenAI, 1.31.0-alpha</span></li><li><span>Microsoft.SemanticKernel.Connectors.AzureAISearch, 1.31.0-preview</span></li><li><span>PdfPig, 0.1.9</span></li></ul></div></div>"
      ]
     },
     "metadata": {},
     "output_type": "display_data"
    }
   ],
   "source": [
    "// Install the DotNetEnv package using the NuGet package manager\n",
    "#r \"nuget: dotenv.net, 3.2.1\"\n",
    "#r \"nuget: Microsoft.SemanticKernel, 1.31.0\"\n",
    "#r \"nuget: Microsoft.SemanticKernel.Agents.Core, 1.31.0-alpha\"\n",
    "#r \"nuget: Microsoft.SemanticKernel.Agents.OpenAI, 1.31.0-alpha\"\n",
    "#r \"nuget: Microsoft.SemanticKernel.Connectors.AzureAISearch, 1.31.0-preview\"\n",
    "\n",
    "#r \"nuget: PdfPig, 0.1.9\""
   ]
  },
  {
   "cell_type": "code",
   "execution_count": 16,
   "metadata": {
    "dotnet_interactive": {
     "language": "csharp"
    },
    "polyglot_notebook": {
     "kernelName": "csharp"
    },
    "vscode": {
     "languageId": "polyglot-notebook"
    }
   },
   "outputs": [],
   "source": [
    "using System.ComponentModel;\n",
    "using System.Text.Json;\n",
    "using System.Threading;\n",
    "\n",
    "using dotenv.net;\n",
    "\n",
    "using Azure;\n",
    "\n",
    "using Microsoft.Extensions.VectorData;\n",
    "\n",
    "using Microsoft.SemanticKernel;\n",
    "using Microsoft.SemanticKernel.ChatCompletion;\n",
    "using Microsoft.SemanticKernel.Connectors.OpenAI;\n",
    "\n",
    "// Libraries for agents from Semantic Kernel\n",
    "using Microsoft.SemanticKernel.Agents;\n",
    "using Microsoft.SemanticKernel.Agents.Chat;\n",
    "using Microsoft.SemanticKernel.Agents.History;\n",
    "using Microsoft.SemanticKernel.Agents.OpenAI;\n",
    "\n",
    "using UglyToad.PdfPig;\n",
    "\n",
    "// Load the .env file\n",
    "DotEnv.Load();"
   ]
  },
  {
   "cell_type": "code",
   "execution_count": 13,
   "metadata": {
    "dotnet_interactive": {
     "language": "csharp"
    },
    "polyglot_notebook": {
     "kernelName": "csharp"
    },
    "vscode": {
     "languageId": "polyglot-notebook"
    }
   },
   "outputs": [],
   "source": [
    "\n",
    "// Access the environment variables\n",
    "var azureOpenAIEndpoint = Environment.GetEnvironmentVariable(\"AZURE_OPENAI_ENDPOINT\");\n",
    "var azureOpenAIKey = Environment.GetEnvironmentVariable(\"AZURE_OPENAI_API_KEY\");\n",
    "var azureOpenAIModel = Environment.GetEnvironmentVariable(\"AZURE_OPENAI_MODEL_NAME\"); \n",
    "var azureOpenAIDeployment = Environment.GetEnvironmentVariable(\"AZURE_OPENAI_DEPLOYMENT_NAME\");\n",
    "var azureOpenAIApiVersion = Environment.GetEnvironmentVariable(\"AZURE_OPENAI_API_VERSION\");\n",
    "var azureOpenAIEmbeddingsModel = Environment.GetEnvironmentVariable(\"AZURE_OPENAI_EMBEDDINGS_MODEL_NAME\");\n",
    "var azureOpenAIEmbeddingsDeployment = Environment.GetEnvironmentVariable(\"AZURE_OPENAI_EMBEDDINGS_DEPLOYMENT_NAME\");\n",
    "\n",
    "var azureAISearchEndpoint = Environment.GetEnvironmentVariable(\"AZURE_AI_SEARCH_ENDPOINT\");\n",
    "var azureAISearchKey = Environment.GetEnvironmentVariable(\"AZURE_AI_SEARCH_KEY\");\n",
    "\n"
   ]
  },
  {
   "cell_type": "code",
   "execution_count": 17,
   "metadata": {
    "vscode": {
     "languageId": "polyglot-notebook"
    }
   },
   "outputs": [],
   "source": [
    "internal sealed class TextSnippet<TKey>\n",
    "{\n",
    "    [VectorStoreRecordKey]\n",
    "    public required TKey Key { get; set; }\n",
    "\n",
    "    [VectorStoreRecordData]\n",
    "    public string? Text { get; set; }\n",
    "\n",
    "    [VectorStoreRecordData]\n",
    "    public string? ReferenceDescription { get; set; }\n",
    "\n",
    "    [VectorStoreRecordData]\n",
    "    public string? ReferenceLink { get; set; }\n",
    "\n",
    "    [VectorStoreRecordVector(1536)]\n",
    "    public ReadOnlyMemory<float> TextEmbedding { get; set; }\n",
    "}"
   ]
  },
  {
   "cell_type": "code",
   "execution_count": 18,
   "metadata": {
    "dotnet_interactive": {
     "language": "csharp"
    },
    "polyglot_notebook": {
     "kernelName": "csharp"
    },
    "vscode": {
     "languageId": "polyglot-notebook"
    }
   },
   "outputs": [],
   "source": [
    "#pragma warning disable SKEXP0010\n",
    "\n",
    "var builder = Kernel.CreateBuilder();\n",
    "\n",
    "builder.AddAzureOpenAIChatCompletion(azureOpenAIDeployment, azureOpenAIEndpoint, azureOpenAIKey)\n",
    "       .AddAzureOpenAITextEmbeddingGeneration(azureOpenAIEmbeddingsDeployment, azureOpenAIEndpoint, azureOpenAIKey)\n",
    "       .AddAzureAISearchVectorStoreRecordCollection<TextSnippet<string>>(\"documents\", new Uri(azureAISearchEndpoint), new AzureKeyCredential(azureAISearchKey))\n",
    "       ;\n",
    "\n",
    "var kernel = builder.Build();"
   ]
  }
 ],
 "metadata": {
  "kernelspec": {
   "display_name": ".NET (C#)",
   "language": "C#",
   "name": ".net-csharp"
  },
  "language_info": {
   "name": "python"
  },
  "polyglot_notebook": {
   "kernelInfo": {
    "defaultKernelName": "csharp",
    "items": [
     {
      "aliases": [],
      "name": "csharp"
     }
    ]
   }
  }
 },
 "nbformat": 4,
 "nbformat_minor": 2
}
